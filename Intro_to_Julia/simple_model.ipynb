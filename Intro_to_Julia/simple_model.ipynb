{
 "cells": [
  {
   "cell_type": "markdown",
   "id": "5b74dfe2-412c-4f9a-8a48-9c203865f744",
   "metadata": {
    "tags": []
   },
   "source": [
    "# Running simple Lotka Volterra predator-prey model"
   ]
  },
  {
   "cell_type": "code",
   "execution_count": null,
   "id": "08539048-c3e9-4abb-873f-b922cafdc926",
   "metadata": {
    "tags": []
   },
   "outputs": [],
   "source": [
    "#--- Load necessary modules\n",
    "#using Pkg\n",
    "#Pkg.add(\"Plots\")\n",
    "using DifferentialEquations, Plots             #--- DifferentialEquations: https://docs.sciml.ai/DiffEqDocs/stable/\n",
    "                                               #--- Plots: https://docs.juliaplots.org/latest/tutorial/\n",
    "\n",
    "#--- Function of derivatives\n",
    "function ode_LV!(dN, N, p, t)\n",
    "    r0, a, e, m = p                            #--- unpack parameters\n",
    "    dN[1] = N[1] * (r0 - a * N[2])             #--- equation prey\n",
    "    dN[2] = N[2] * (e * a *  N[1] - m )        #--- equation predator\n",
    "end\n",
    "\n",
    "\n",
    "#--- Define the system \n",
    "p = (r0 = 0.5, a=0.6, e=0.2, m = 0.1)           #--- the parameters\n",
    "N_init = [2.,1.]                                #--- the initial values of state variables\n",
    "tspan = (0.,100.)                               #--- min and max values of simulation time\n",
    "\n",
    "problem = ODEProblem(ode_LV!, N_init, tspan, p) #--- define the problem\n",
    "\n",
    "#--- Solve the problem numerical integration\n",
    "sol = solve(problem) \n",
    "\n",
    "#sol = solve(problem,KenCarp4(),saveat = 1:tspan[2]) \n",
    "\n",
    "#--- Plot the dynamics\n",
    "plot(sol, label=[\"prey\" \"predator\"])"
   ]
  },
  {
   "cell_type": "markdown",
   "id": "e2481064-1595-4747-acce-3c1e1c46df6b",
   "metadata": {
    "tags": []
   },
   "source": [
    "NB: the solution is a 2-element object with densities presented as a vector of abundances  at each time point.\n",
    "\n",
    "You might wnat to transform it into a matrix."
   ]
  },
  {
   "cell_type": "code",
   "execution_count": null,
   "id": "edecbe9f-131c-4758-8c2a-41f38ba94968",
   "metadata": {
    "tags": []
   },
   "outputs": [],
   "source": [
    "sol\n",
    "sol.t                     #--- the time vector\n",
    "sol.u;                    #--- the variable dynamics\n",
    "convert(Array, sol)'      #--- Transform into a matrix. Equivalent to reduce(hcat, sol.u)'"
   ]
  },
  {
   "cell_type": "markdown",
   "id": "1394d80a-4a66-49ed-b60b-e5b5852620c6",
   "metadata": {},
   "source": [
    " "
   ]
  },
  {
   "cell_type": "markdown",
   "id": "c4ba8104-f497-4ade-8079-b315583c3a16",
   "metadata": {
    "tags": []
   },
   "source": [
    "\n",
    "# Generalized Lotka-Volterra model of n-species\n",
    "\n",
    "This time, we use a matrix for interaction coefficients, AA, and \\\".\\\" for operations to each elements of vectors du, u, and r0"
   ]
  },
  {
   "cell_type": "code",
   "execution_count": null,
   "id": "6b50cce9-3c79-4afb-a100-8f47929b25e8",
   "metadata": {
    "tags": []
   },
   "outputs": [],
   "source": [
    "#--- Function of derivatives\n",
    "function ode_LVG!(du, u, p, t)\n",
    "    r0, AA = p                     #--- local copy of parameters\n",
    "    du .= u .* (r0 .+ (AA * u))                                                          #--- equation\n",
    "end"
   ]
  },
  {
   "cell_type": "code",
   "execution_count": null,
   "id": "9f958df1-9e1f-4b29-83fa-fb3c5ddd5ed6",
   "metadata": {
    "tags": []
   },
   "outputs": [],
   "source": [
    "# Use of new modules:  Random for seed! function, Distributions for sample function, LinearAlgebra for diagind function \n",
    "using Random, Distributions, LinearAlgebra  \n",
    "\n",
    "#--- Initialize random number generators\n",
    "#---------------------------------------\n",
    "Random.seed!(1)  \n",
    "\n",
    "#--- Define the system \n",
    "#---------------------\n",
    "S = 100                          #--- number of species                  \n",
    "r0s = randn(S)                   #--- intrinsic growth rates\n",
    "AAs = -rand(S,S) ./ 100.         #--- interaction coeffficients\n",
    "AAs[diagind(AAs)] .= - 0.1       #--- intraspecific interaction coefficients\n",
    "\n",
    "p = (r0s, AAs)                                       #--- the parameters\n",
    "N_init = sample(range(1., 2.,length = 1000),S)       #--- the initial values of state variables\n",
    "tspan = (0.,100.)                                    #--- min and max values of simulation time\n",
    "                                                     # duration = @elapsed begin\n",
    "prob = ODEProblem(ode_LVG!, N_init, tspan, p)        #--- define the problem\n",
    "\n",
    "\n",
    "#--- Run numerical integration\n",
    "#-----------------------------\n",
    "sol = solve(prob,isoutofdomain = (u, p, t) -> any(x -> x < 0, u));   \n",
    "                                                     # end\n",
    "                                                     # @info string(\"duration = \",duration)\n",
    "#--- Plot the dynamics\n",
    "#---------------------\n",
    "plot(sol, legend=false)"
   ]
  },
  {
   "cell_type": "markdown",
   "id": "cec12fc6-d4a6-4594-ba16-2917359fd50f",
   "metadata": {
    "tags": []
   },
   "source": [
    "\n",
    "# Using Callbacks\n",
    "\n",
    "You may want to have events hapening during the dynamics. Julia allows an access to the integration interface during the dynamics"
   ]
  },
  {
   "cell_type": "code",
   "execution_count": null,
   "id": "a0a9734e-e7cd-46af-b37d-5b2a9c824664",
   "metadata": {
    "tags": []
   },
   "outputs": [],
   "source": [
    "using DiffEqCallbacks             #--- https://docs.sciml.ai/DiffEqCallbacks/stable/\n",
    "\n",
    "\n",
    "#--- Callback functions for the perturbations\n",
    "#--------------------------------------------\n",
    "\n",
    "#--- Condition for the perturbation\n",
    "function condition_perturb(u, t, integrator) \n",
    "    in(t,(integrator.p[3]))                                            #--- time reaches one of the predefined time points\n",
    "end\n",
    "\n",
    "#--- Perturbation function \n",
    "function affect_perturb!(integrator) \n",
    "    integrator.u .*= (1-integrator.p[4])                                #--- multiply abundances by 1-intensity\n",
    "end\n",
    "\n",
    "perturb_cb = DiscreteCallback(condition_perturb,affect_perturb!)        #--- define the perturbation callback\n",
    "\n",
    "\n",
    "#--- Definition of the system\n",
    "times_of_perturbations = (10.,30.,50.,80.)\n",
    "perturb_intensity = 0.2\n",
    "p = (r0s, AAs,times_of_perturbations,perturb_intensity) \n",
    "\n",
    "#--- Function of derivatives\n",
    "function ode_LVG_with_pert!(du, u, p, t)\n",
    "    r0, AA, t_p, p_i = p                     #--- local copy of parameters\n",
    "    du .= u .* (r0 .+ (AA * u))              #--- equation\n",
    "end\n",
    "\n",
    "prob = ODEProblem(ode_LVG_with_pert!, N_init, tspan, p, callback = perturb_cb)        #--- define the problem with callbacks\n",
    "\n",
    "\n",
    "#--- Run numerical integration   specifying to stop at the times of perturbations\n",
    "#-----------------------------\n",
    "sol = solve(prob, tstops = times_of_perturbations, isoutofdomain = (u, p, t) -> any(x -> x < 0, u));\n",
    "\n",
    "#--- Plot the dynamics\n",
    "#---------------------\n",
    "plot(sol, legend=false)"
   ]
  },
  {
   "cell_type": "markdown",
   "id": "802095ee-bb56-461e-93ba-b06399d57afa",
   "metadata": {
    "tags": []
   },
   "source": [
    "# Inputs and Outputs"
   ]
  },
  {
   "cell_type": "code",
   "execution_count": null,
   "id": "6c501693-27ad-4afd-a0a6-f7c6d7d9528b",
   "metadata": {
    "tags": []
   },
   "outputs": [],
   "source": [
    "using DelimitedFiles\n",
    "\n",
    "Random.seed!(1)  \n",
    "\n",
    "#--- Define the system \n",
    "#---------------------\n",
    "AA = readdlm(\"./interaction_mat.txt\")                #--- get the interaction matrix from a file in working directory\n",
    "S = size(AA)[1]\n",
    "r0s = randn(S)\n",
    "p = (r0s, AA)                                        #--- the parameters\n",
    "N_init = sample(range(1., 2.,length = 1000),S)       #--- the initial values of state variables\n",
    "tspan = (0.,100.)                                    #--- min and max values of simulation time\n",
    "prob = ODEProblem(ode_LVG!, N_init, tspan, p)        #--- define the problem\n",
    "\n",
    "\n",
    "#--- Run numerical integration\n",
    "#-----------------------------\n",
    "sol = solve(prob,isoutofdomain = (u, p, t) -> any(x -> x < 0, u));   \n",
    "\n",
    "\n",
    "\n",
    "#--- Create a directory for outputs\n",
    "#----------------------------------\n",
    "path_out = \"./out\"\n",
    "mkpath(path_out)\n",
    "\n",
    "\n",
    "#--- Save outputs in text files\n",
    "#------------------------------\n",
    "writedlm(joinpath(path_out,\"abundances.txt\"),convert(Array, sol)')\n",
    "writedlm(joinpath(path_out,\"times.txt\"),sol.t)\n"
   ]
  },
  {
   "cell_type": "markdown",
   "id": "10d31c0b-5468-484d-97a8-2322f8ec1149",
   "metadata": {
    "tags": []
   },
   "source": [
    "You can also record during simulation by using `open` and `close` functions"
   ]
  },
  {
   "cell_type": "code",
   "execution_count": null,
   "id": "c78532dd-d00f-4a7c-8613-25e08dec0294",
   "metadata": {
    "tags": []
   },
   "outputs": [],
   "source": [
    "r0_mat = open(joinpath(path_out,\"r0mat.txt\"),\"a\")   #--- Open the file\n",
    "\n",
    "for i in 1:5\n",
    "    Random.seed!(i)    \n",
    "    r0s = randn(S) \n",
    "    writedlm(r0_mat,r0s')                           #--- Write in the file\n",
    "end\n",
    "\n",
    "close(r0_mat)                                       #--- close the file\n"
   ]
  },
  {
   "cell_type": "code",
   "execution_count": null,
   "id": "f1a2e3d0-8ed9-45b4-a7e7-e9ca9bf0f2b8",
   "metadata": {},
   "outputs": [],
   "source": []
  }
 ],
 "metadata": {
  "kernelspec": {
   "display_name": "Julia 1.10.0",
   "language": "julia",
   "name": "julia-1.10"
  },
  "language_info": {
   "file_extension": ".jl",
   "mimetype": "application/julia",
   "name": "julia",
   "version": "1.10.0"
  }
 },
 "nbformat": 4,
 "nbformat_minor": 5
}
