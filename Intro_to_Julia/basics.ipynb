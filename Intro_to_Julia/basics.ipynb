{
 "cells": [
  {
   "cell_type": "markdown",
   "id": "51b4375b",
   "metadata": {},
   "source": [
    "# Julia basics \n",
    "\n",
    "Let's explore basic language properties of Julia. Don't hesitate to have a look at the documentation ( https://docs.julialang.org/en/v1/ ) when you're in trouble.\n",
    "\n",
    "## 1 - Variables and types\n",
    "\n",
    "Variables store data in the computer's memory."
   ]
  },
  {
   "cell_type": "code",
   "execution_count": 1,
   "id": "a023b2f7-e4ba-4193-9dcb-6339b1274329",
   "metadata": {},
   "outputs": [
    {
     "data": {
      "text/plain": [
       "3"
      ]
     },
     "metadata": {},
     "output_type": "display_data"
    }
   ],
   "source": [
    "# assign the value 1 + 2 to a\n",
    "a = 1 + 2"
   ]
  },
  {
   "cell_type": "markdown",
   "id": "7dcda26d",
   "metadata": {},
   "source": [
    "Variables can be of type `Integer`s, `String`s, and way more ! In Julia, all variables have a type."
   ]
  },
  {
   "cell_type": "code",
   "execution_count": 2,
   "id": "8433f1de",
   "metadata": {},
   "outputs": [
    {
     "data": {
      "text/plain": [
       "Int64"
      ]
     },
     "metadata": {},
     "output_type": "display_data"
    }
   ],
   "source": [
    "typeof(a)"
   ]
  },
  {
   "cell_type": "code",
   "execution_count": 3,
   "id": "11c7f244",
   "metadata": {},
   "outputs": [
    {
     "data": {
      "text/plain": [
       "String"
      ]
     },
     "metadata": {},
     "output_type": "display_data"
    }
   ],
   "source": [
    "b = \"a character string\"\n",
    "typeof(b)"
   ]
  },
  {
   "cell_type": "markdown",
   "id": "824c2307",
   "metadata": {},
   "source": [
    "`Bool`eans can be `true` or `false`."
   ]
  },
  {
   "cell_type": "code",
   "execution_count": 4,
   "id": "25d0bffe",
   "metadata": {},
   "outputs": [
    {
     "data": {
      "text/plain": [
       "Bool"
      ]
     },
     "metadata": {},
     "output_type": "display_data"
    }
   ],
   "source": [
    "typeof(a == 4)"
   ]
  },
  {
   "cell_type": "markdown",
   "id": "d8e654fd",
   "metadata": {},
   "source": [
    "You can compare objects to types using the `isa` operator"
   ]
  },
  {
   "cell_type": "code",
   "execution_count": 5,
   "id": "458c1f52",
   "metadata": {},
   "outputs": [
    {
     "data": {
      "text/plain": [
       "true"
      ]
     },
     "metadata": {},
     "output_type": "display_data"
    }
   ],
   "source": [
    "b isa String"
   ]
  },
  {
   "cell_type": "markdown",
   "id": "be23f6d5",
   "metadata": {},
   "source": [
    "And even types have the type `DataType` !"
   ]
  },
  {
   "cell_type": "code",
   "execution_count": 6,
   "id": "7a23cd8c",
   "metadata": {},
   "outputs": [
    {
     "data": {
      "text/plain": [
       "DataType"
      ]
     },
     "metadata": {},
     "output_type": "display_data"
    }
   ],
   "source": [
    "typeof(Int64)"
   ]
  },
  {
   "cell_type": "markdown",
   "id": "9f16d627",
   "metadata": {},
   "source": [
    "Most conversions that make sense can be done with `convert`"
   ]
  },
  {
   "cell_type": "code",
   "execution_count": null,
   "id": "d04786ad",
   "metadata": {},
   "outputs": [],
   "source": [
    "convert(Float64, a)"
   ]
  },
  {
   "cell_type": "markdown",
   "id": "184c6007",
   "metadata": {},
   "source": [
    "`String`s can *interpolate* the value of a variable to access its value and include it in the string"
   ]
  },
  {
   "cell_type": "code",
   "execution_count": 68,
   "id": "5ca765a1",
   "metadata": {},
   "outputs": [
    {
     "data": {
      "text/plain": [
       "\"3 people showed up at the club stats\""
      ]
     },
     "metadata": {},
     "output_type": "display_data"
    }
   ],
   "source": [
    "\"$a people showed up at the club stats\""
   ]
  },
  {
   "cell_type": "markdown",
   "id": "be1475e4",
   "metadata": {},
   "source": [
    "## 2 - Data structures\n",
    "\n",
    "Some types are well suited to containing several types of data, often used in simulations or statistics."
   ]
  },
  {
   "cell_type": "markdown",
   "id": "c29f4374",
   "metadata": {},
   "source": []
  },
  {
   "cell_type": "markdown",
   "id": "ee8f74fe",
   "metadata": {},
   "source": [
    "### Arrays\n",
    "\n",
    "An `Array` is an ordered sequence of elements (that can be of only one or of many different types). Access elements of an array with brackets, starting from 1 to the length of the array."
   ]
  },
  {
   "cell_type": "code",
   "execution_count": 7,
   "id": "f205a525",
   "metadata": {},
   "outputs": [
    {
     "data": {
      "text/plain": [
       "3"
      ]
     },
     "metadata": {},
     "output_type": "display_data"
    }
   ],
   "source": [
    "array = [1,3,5,7]\n",
    "array[2]"
   ]
  },
  {
   "cell_type": "code",
   "execution_count": 8,
   "id": "e05888aa",
   "metadata": {},
   "outputs": [
    {
     "data": {
      "text/plain": [
       "6"
      ]
     },
     "metadata": {},
     "output_type": "display_data"
    }
   ],
   "source": [
    "array[4] = 6"
   ]
  },
  {
   "cell_type": "markdown",
   "id": "ffac0f51",
   "metadata": {},
   "source": [
    "The type of an array gives information on the type of data it contains."
   ]
  },
  {
   "cell_type": "code",
   "execution_count": 71,
   "id": "60459393",
   "metadata": {},
   "outputs": [
    {
     "data": {
      "text/plain": [
       "Vector{Int64}\u001b[90m (alias for \u001b[39m\u001b[90mArray{Int64, 1}\u001b[39m\u001b[90m)\u001b[39m"
      ]
     },
     "metadata": {},
     "output_type": "display_data"
    }
   ],
   "source": [
    "typeof(array)"
   ]
  },
  {
   "cell_type": "code",
   "execution_count": 72,
   "id": "87037a8d",
   "metadata": {},
   "outputs": [
    {
     "data": {
      "text/plain": [
       "Vector{String}\u001b[90m (alias for \u001b[39m\u001b[90mArray{String, 1}\u001b[39m\u001b[90m)\u001b[39m"
      ]
     },
     "metadata": {},
     "output_type": "display_data"
    }
   ],
   "source": [
    "new_array = [\"this\", \"is\", \"an\", \"array of strings\"]\n",
    "typeof(new_array)"
   ]
  },
  {
   "cell_type": "markdown",
   "id": "24833c9e",
   "metadata": {},
   "source": [
    "`Array`s can be modified using brackets, but only accept new elements of the type they contain !"
   ]
  },
  {
   "cell_type": "code",
   "execution_count": 73,
   "id": "cd74bd17",
   "metadata": {},
   "outputs": [
    {
     "data": {
      "text/plain": [
       "4-element Vector{String}:\n",
       " \"this\"\n",
       " \"is\"\n",
       " \"an\"\n",
       " \"example\""
      ]
     },
     "metadata": {},
     "output_type": "display_data"
    }
   ],
   "source": [
    "new_array[4] = \"example\"\n",
    "new_array"
   ]
  },
  {
   "cell_type": "code",
   "execution_count": 74,
   "id": "5a5cd28d",
   "metadata": {},
   "outputs": [
    {
     "ename": "MethodError",
     "evalue": "MethodError: Cannot `convert` an object of type Int64 to an object of type String\n\nClosest candidates are:\n  convert(::Type{String}, !Matched::String)\n   @ Base essentials.jl:298\n  convert(::Type{T}, !Matched::T) where T<:AbstractString\n   @ Base strings/basic.jl:231\n  convert(::Type{T}, !Matched::AbstractString) where T<:AbstractString\n   @ Base strings/basic.jl:232\n  ...\n",
     "output_type": "error",
     "traceback": [
      "MethodError: Cannot `convert` an object of type Int64 to an object of type String\n",
      "\n",
      "Closest candidates are:\n",
      "  convert(::Type{String}, !Matched::String)\n",
      "   @ Base essentials.jl:298\n",
      "  convert(::Type{T}, !Matched::T) where T<:AbstractString\n",
      "   @ Base strings/basic.jl:231\n",
      "  convert(::Type{T}, !Matched::AbstractString) where T<:AbstractString\n",
      "   @ Base strings/basic.jl:232\n",
      "  ...\n",
      "\n",
      "\n",
      "Stacktrace:\n",
      " [1] setindex!(A::Vector{String}, x::Int64, i1::Int64)\n",
      "   @ Base ./array.jl:969\n",
      " [2] top-level scope\n",
      "   @ ~/Documents/Code/tutojulia/basics.ipynb:2"
     ]
    }
   ],
   "source": [
    "# errors because new_array is an array of Strings\n",
    "new_array[4] = 2"
   ]
  },
  {
   "cell_type": "markdown",
   "id": "bb0220b4",
   "metadata": {},
   "source": [
    "## Multi-dimensional Arrays\n",
    "\n",
    "An array with more than one dimension can also be accessed by brackets."
   ]
  },
  {
   "cell_type": "code",
   "execution_count": 10,
   "id": "3dc0bab0",
   "metadata": {},
   "outputs": [
    {
     "data": {
      "text/plain": [
       "Matrix{Int64}\u001b[90m (alias for \u001b[39m\u001b[90mArray{Int64, 2}\u001b[39m\u001b[90m)\u001b[39m"
      ]
     },
     "metadata": {},
     "output_type": "display_data"
    }
   ],
   "source": [
    "# build a three-by-three matrix : 2D array\n",
    "A = [1 2 3 ; 4 5 6 ; 6 7 8]\n",
    "typeof(A)"
   ]
  },
  {
   "cell_type": "code",
   "execution_count": 11,
   "id": "6f140159",
   "metadata": {},
   "outputs": [
    {
     "data": {
      "text/plain": [
       "4"
      ]
     },
     "metadata": {},
     "output_type": "display_data"
    }
   ],
   "source": [
    "A[2,1] # second row, first column"
   ]
  },
  {
   "cell_type": "code",
   "execution_count": 12,
   "id": "7f4ef435",
   "metadata": {},
   "outputs": [
    {
     "data": {
      "text/plain": [
       "3-element Vector{Int64}:\n",
       " 2\n",
       " 5\n",
       " 7"
      ]
     },
     "metadata": {},
     "output_type": "display_data"
    }
   ],
   "source": [
    "A[:,2] # all rows of the second column"
   ]
  },
  {
   "cell_type": "markdown",
   "id": "672c93e3",
   "metadata": {},
   "source": [
    "Multidimensional arrays can have even more dimensions, they can contain strings, ...\n",
    "\n",
    "### Tuples and NamedTuples\n",
    "\n",
    "Tuples are *unmutable* ordered sequences of elements. Once you declare them you can only access their elements !"
   ]
  },
  {
   "cell_type": "code",
   "execution_count": 77,
   "id": "646b2630",
   "metadata": {},
   "outputs": [
    {
     "data": {
      "text/plain": [
       "(1, 2, 3, 4)"
      ]
     },
     "metadata": {},
     "output_type": "display_data"
    }
   ],
   "source": [
    "new_tuple = (1,2,3,4)"
   ]
  },
  {
   "cell_type": "code",
   "execution_count": 78,
   "id": "1e263670",
   "metadata": {},
   "outputs": [
    {
     "ename": "MethodError",
     "evalue": "MethodError: no method matching setindex!(::NTuple{4, Int64}, ::Int64, ::Int64)",
     "output_type": "error",
     "traceback": [
      "MethodError: no method matching setindex!(::NTuple{4, Int64}, ::Int64, ::Int64)\n",
      "\n",
      "Stacktrace:\n",
      " [1] top-level scope\n",
      "   @ ~/Documents/Code/tutojulia/basics.ipynb:1"
     ]
    }
   ],
   "source": [
    "new_tuple[2] = 4 # errors : tuples are unmutable"
   ]
  },
  {
   "cell_type": "markdown",
   "id": "30775fbf",
   "metadata": {},
   "source": [
    "Tuple elements can be \"named\". Elements are then accessed by the corresponding `Symbol`s."
   ]
  },
  {
   "cell_type": "code",
   "execution_count": 79,
   "id": "cf981a35",
   "metadata": {},
   "outputs": [
    {
     "data": {
      "text/plain": [
       "6"
      ]
     },
     "metadata": {},
     "output_type": "display_data"
    }
   ],
   "source": [
    "named_tuple = (a = 2, b = 4, c = 6)\n",
    "named_tuple[:c]"
   ]
  },
  {
   "cell_type": "markdown",
   "id": "b8950099",
   "metadata": {},
   "source": [
    "### Dictionaries\n",
    "\n",
    "Dictionaries are unordered and mutable. They match a \"key\" to its corresponding \"value\", and are accessed using their keys (keys can be of different types than Symbols)"
   ]
  },
  {
   "cell_type": "code",
   "execution_count": 15,
   "id": "650376f5",
   "metadata": {},
   "outputs": [
    {
     "data": {
      "text/plain": [
       "(3, 4)"
      ]
     },
     "metadata": {},
     "output_type": "display_data"
    }
   ],
   "source": [
    "mydict = Dict(\"name_el1\" => (3,4), \"name_el2\" => (\"gizmo\"))\n",
    "mydict[\"name_el1\"]"
   ]
  },
  {
   "cell_type": "markdown",
   "id": "cb6f7b7e",
   "metadata": {},
   "source": [
    "## 3 - Control flow\n",
    "\n",
    "### Conditions\n",
    "\n",
    "Like in other languages, we can define condition blocks :"
   ]
  },
  {
   "cell_type": "code",
   "execution_count": 17,
   "id": "05eb5aa9",
   "metadata": {},
   "outputs": [
    {
     "data": {
      "text/plain": [
       "4"
      ]
     },
     "metadata": {},
     "output_type": "display_data"
    }
   ],
   "source": [
    "if \"test\" isa String\n",
    "    result = 5\n",
    "    if 2 - 3 <= 0\n",
    "        result = 4\n",
    "    end\n",
    "elseif \"test\" isa Number\n",
    "    result = 3\n",
    "else\n",
    "    result = 2\n",
    "end\n",
    "\n",
    "result"
   ]
  },
  {
   "cell_type": "markdown",
   "id": "e20c1f1f",
   "metadata": {},
   "source": [
    "Notice the `end` keyword at the end of the block : they are the equivalent of closing braces in R.\n",
    "\n",
    "If both the condition and the action depending on it are small, it can be useful to use a *ternary operator*."
   ]
  },
  {
   "cell_type": "code",
   "execution_count": 81,
   "id": "a1d84e11",
   "metadata": {},
   "outputs": [
    {
     "data": {
      "text/plain": [
       "1"
      ]
     },
     "metadata": {},
     "output_type": "display_data"
    }
   ],
   "source": [
    "d = \"hoho\" isa String ? 1 : 2\n",
    "d"
   ]
  },
  {
   "cell_type": "markdown",
   "id": "10a10c75",
   "metadata": {},
   "source": [
    "### Boolean operators\n",
    "\n",
    "- `&&` : AND\n",
    "- `||` : OR"
   ]
  },
  {
   "cell_type": "code",
   "execution_count": 19,
   "id": "adbb06b5",
   "metadata": {},
   "outputs": [
    {
     "data": {
      "text/plain": [
       "false"
      ]
     },
     "metadata": {},
     "output_type": "display_data"
    }
   ],
   "source": [
    "(1 + 2 == 3 || 4 < 2) && \"a\" isa Number"
   ]
  },
  {
   "cell_type": "markdown",
   "id": "ed776558",
   "metadata": {},
   "source": [
    "Boolean operations on arrays are ambiguous : use `all` or `any` do disambiguate"
   ]
  },
  {
   "cell_type": "code",
   "execution_count": 23,
   "id": "30c45c2c",
   "metadata": {},
   "outputs": [
    {
     "data": {
      "text/plain": [
       "false"
      ]
     },
     "metadata": {},
     "output_type": "display_data"
    }
   ],
   "source": [
    "all([true, true, false])"
   ]
  },
  {
   "cell_type": "code",
   "execution_count": 24,
   "id": "4f18323a",
   "metadata": {},
   "outputs": [
    {
     "data": {
      "text/plain": [
       "true"
      ]
     },
     "metadata": {},
     "output_type": "display_data"
    }
   ],
   "source": [
    "any([1, 2, 3, 4] .<= 2)"
   ]
  },
  {
   "cell_type": "markdown",
   "id": "9042c080",
   "metadata": {},
   "source": [
    "### Loops\n",
    "\n",
    "`while` loops iterate as long as a condition is met"
   ]
  },
  {
   "cell_type": "code",
   "execution_count": 82,
   "id": "e2120525",
   "metadata": {},
   "outputs": [
    {
     "data": {
      "text/plain": [
       "6"
      ]
     },
     "metadata": {},
     "output_type": "display_data"
    }
   ],
   "source": [
    "count = 0\n",
    "while count <= 5\n",
    "    count += 1\n",
    "end\n",
    "count"
   ]
  },
  {
   "cell_type": "markdown",
   "id": "35eda149",
   "metadata": {},
   "source": [
    "`for` loops iterate over a single dimensional array"
   ]
  },
  {
   "cell_type": "code",
   "execution_count": 83,
   "id": "2c551359",
   "metadata": {},
   "outputs": [
    {
     "data": {
      "text/plain": [
       "\"ha ha ho ho he he \""
      ]
     },
     "metadata": {},
     "output_type": "display_data"
    }
   ],
   "source": [
    "out = \"\"\n",
    "for v in [\"a\", \"b\", \"c\", \"o\", \"f\", \"e\"]\n",
    "    if v in [\"a\", \"e\", \"i\", \"o\", \"u\"]\n",
    "        # in julia, we concatenate strings with *\n",
    "        out = out * \"h$v h$v \"\n",
    "    else\n",
    "        out = out * \"\"\n",
    "    end\n",
    "end\n",
    "out"
   ]
  },
  {
   "cell_type": "markdown",
   "id": "6a02bc13",
   "metadata": {},
   "source": [
    "`for` can iterate over several arrays, this is useful to operate on multi-dimensional arrays"
   ]
  },
  {
   "cell_type": "code",
   "execution_count": 21,
   "id": "08d72340",
   "metadata": {},
   "outputs": [
    {
     "data": {
      "text/plain": [
       "5×4 Matrix{Float64}:\n",
       " 2.0  3.0  4.0  5.0\n",
       " 3.0  4.0  5.0  6.0\n",
       " 4.0  5.0  6.0  7.0\n",
       " 5.0  6.0  7.0  8.0\n",
       " 6.0  7.0  8.0  9.0"
      ]
     },
     "metadata": {},
     "output_type": "display_data"
    }
   ],
   "source": [
    "B = zeros(5, 4)\n",
    "\n",
    "for i in 1:5, j in 1:4\n",
    "    B[i, j] = i + j\n",
    "end\n",
    "\n",
    "B"
   ]
  },
  {
   "cell_type": "markdown",
   "id": "6b20bb59",
   "metadata": {},
   "source": [
    "Just like in Python, you can use array comprehensions to build arrays in a compact way"
   ]
  },
  {
   "cell_type": "code",
   "execution_count": 22,
   "id": "d370d3a2",
   "metadata": {},
   "outputs": [
    {
     "data": {
      "text/plain": [
       "5×4 Matrix{Int64}:\n",
       " 2  3  4  5\n",
       " 3  4  5  6\n",
       " 4  5  6  7\n",
       " 5  6  7  8\n",
       " 6  7  8  9"
      ]
     },
     "metadata": {},
     "output_type": "display_data"
    }
   ],
   "source": [
    "C = [i + j for i in 1:5, j in 1:4]\n",
    "C"
   ]
  },
  {
   "cell_type": "markdown",
   "id": "8e149359",
   "metadata": {},
   "source": [
    "\n",
    "## Functions\n",
    "\n",
    "Just like in other programming languages, functions are predefined sets of operations that take *arguments* and *return* results. Functions are really important in Julia because the more a function is run, the better the Julia compiler learns to optimize it. If your program is doing the same operation a lot of times, you should wrap it in a function.\n",
    "\n",
    "Let's define a function."
   ]
  },
  {
   "cell_type": "code",
   "execution_count": 84,
   "id": "7e435485",
   "metadata": {},
   "outputs": [
    {
     "data": {
      "text/plain": [
       "true"
      ]
     },
     "metadata": {},
     "output_type": "display_data"
    }
   ],
   "source": [
    "function is_even(x)\n",
    "    modulo = x % 2\n",
    "    return (modulo == 0)\n",
    "end\n",
    "\n",
    "is_even(4)"
   ]
  },
  {
   "cell_type": "markdown",
   "id": "b2287a78",
   "metadata": {},
   "source": [
    "Functions can be defined several times if they should have a different behavior depending on their argument's type. This is called *multiple dispatch* and is a very important feature of Julia. Performance-wise, it's always better to use multiple dispatch than to manually write conditions about type inside functions."
   ]
  },
  {
   "cell_type": "code",
   "execution_count": 85,
   "id": "fdf2ca96",
   "metadata": {},
   "outputs": [
    {
     "data": {
      "text/plain": [
       "\"An even String makes no sense !\""
      ]
     },
     "metadata": {},
     "output_type": "display_data"
    }
   ],
   "source": [
    "function is_even(x::String)\n",
    "    return(\"An even String makes no sense !\")\n",
    "end\n",
    "\n",
    "is_even(\"haha\")"
   ]
  },
  {
   "cell_type": "markdown",
   "id": "87744d7b",
   "metadata": {},
   "source": [
    "Thanks to multiple dispatch, defining the second version of `is_even` did not erase the first :"
   ]
  },
  {
   "cell_type": "code",
   "execution_count": 86,
   "id": "62b46104",
   "metadata": {},
   "outputs": [
    {
     "data": {
      "text/plain": [
       "false"
      ]
     },
     "metadata": {},
     "output_type": "display_data"
    }
   ],
   "source": [
    "is_even(5)"
   ]
  },
  {
   "cell_type": "markdown",
   "id": "7fcd8c1a",
   "metadata": {},
   "source": [
    "Several definitions of a function can accept different numbers of arguments :"
   ]
  },
  {
   "cell_type": "code",
   "execution_count": 87,
   "id": "55cedfce",
   "metadata": {},
   "outputs": [
    {
     "data": {
      "text/plain": [
       "compare (generic function with 2 methods)"
      ]
     },
     "metadata": {},
     "output_type": "display_data"
    }
   ],
   "source": [
    "function compare(x::Number, y::Number)\n",
    "    println(x < y ? \"$x smaller than $y\" : \"$x greater than $y\")\n",
    "end\n",
    "\n",
    "function compare(x, y, z)\n",
    "    compare(x,y)\n",
    "    compare(y,z)\n",
    "    compare(x,z)\n",
    "end"
   ]
  },
  {
   "cell_type": "code",
   "execution_count": 88,
   "id": "f54e8d5f",
   "metadata": {},
   "outputs": [
    {
     "name": "stdout",
     "output_type": "stream",
     "text": [
      "4 smaller than 5\n",
      "5 greater than 3\n",
      "4 greater than 3\n",
      "7 greater than 6\n"
     ]
    }
   ],
   "source": [
    "compare(4,5,3)\n",
    "\n",
    "compare(7,6)"
   ]
  },
  {
   "cell_type": "markdown",
   "id": "96072ce2",
   "metadata": {},
   "source": [
    "For simple functions, you can use short form declaration"
   ]
  },
  {
   "cell_type": "code",
   "execution_count": 26,
   "id": "f730e535",
   "metadata": {},
   "outputs": [
    {
     "data": {
      "text/plain": [
       "false"
      ]
     },
     "metadata": {},
     "output_type": "display_data"
    }
   ],
   "source": [
    "is_even_short(x) = (x % 2 == 0)\n",
    "is_even_short(5)"
   ]
  },
  {
   "cell_type": "markdown",
   "id": "acd53293",
   "metadata": {},
   "source": [
    "Functions can be declared anonymously. Picture this function that takes a function and applies it two times to an argument:"
   ]
  },
  {
   "cell_type": "code",
   "execution_count": 27,
   "id": "c55a04f5",
   "metadata": {},
   "outputs": [
    {
     "data": {
      "text/plain": [
       "make_it_double (generic function with 1 method)"
      ]
     },
     "metadata": {},
     "output_type": "display_data"
    }
   ],
   "source": [
    "function make_it_double(f::Function, x::Number)\n",
    "    return(\n",
    "        f(f(x))\n",
    "    )\n",
    "end"
   ]
  },
  {
   "cell_type": "markdown",
   "id": "36358f6e",
   "metadata": {},
   "source": [
    "It would be silly to have to name every function you pass to `make_it_double`. The syntax `->` helps to define functions anonymously"
   ]
  },
  {
   "cell_type": "code",
   "execution_count": 29,
   "id": "2d72712e",
   "metadata": {},
   "outputs": [
    {
     "data": {
      "text/plain": [
       "420"
      ]
     },
     "metadata": {},
     "output_type": "display_data"
    }
   ],
   "source": [
    "make_it_double(y -> y + y^2, 4)"
   ]
  },
  {
   "cell_type": "markdown",
   "id": "8851980c",
   "metadata": {},
   "source": [
    "By convention, functions that modify their entry arguments should end with a \"!\". This helps not getting mixed up between which functions should be changing their input and which ones should not."
   ]
  },
  {
   "cell_type": "code",
   "execution_count": 51,
   "id": "834a9321",
   "metadata": {},
   "outputs": [
    {
     "data": {
      "text/plain": [
       "2-element Vector{Int64}:\n",
       " 2\n",
       " 2"
      ]
     },
     "metadata": {},
     "output_type": "display_data"
    }
   ],
   "source": [
    "function add_one!(x::Array)\n",
    "    x[1] = x[1] + 1\n",
    "end\n",
    "b = [1,2]\n",
    "add_one!(b)\n",
    "b"
   ]
  },
  {
   "cell_type": "markdown",
   "id": "10253c8a",
   "metadata": {},
   "source": [
    "However, functions cannot redeclare variables (only mutate them):"
   ]
  },
  {
   "cell_type": "code",
   "execution_count": 54,
   "id": "3ac854f2",
   "metadata": {},
   "outputs": [
    {
     "data": {
      "text/plain": [
       "6"
      ]
     },
     "metadata": {},
     "output_type": "display_data"
    }
   ],
   "source": [
    "b = 5\n",
    "function add_one(x::Integer)\n",
    "    x += 1\n",
    "end\n",
    "add_one(b)"
   ]
  },
  {
   "cell_type": "code",
   "execution_count": 55,
   "id": "8fee472c",
   "metadata": {},
   "outputs": [
    {
     "data": {
      "text/plain": [
       "5"
      ]
     },
     "metadata": {},
     "output_type": "display_data"
    }
   ],
   "source": [
    "b"
   ]
  },
  {
   "cell_type": "code",
   "execution_count": 89,
   "id": "b392f2eb",
   "metadata": {},
   "outputs": [
    {
     "data": {
      "text/plain": [
       "6-element Vector{Any}:\n",
       " false\n",
       "  true\n",
       " false\n",
       "      \"An even String makes no sense !\"\n",
       "  true\n",
       "  true"
      ]
     },
     "metadata": {},
     "output_type": "display_data"
    }
   ],
   "source": [
    "is_even.([1, 2, 3, \"a\", 4, 16])"
   ]
  },
  {
   "cell_type": "markdown",
   "id": "6b8abc04",
   "metadata": {},
   "source": [
    "## 5 - Miscellaneous\n",
    "\n",
    "### Install and use modules\n",
    "\n",
    "Not every Julia functionnality is available when you start Julia. Just like R packages, people group and develop specific sets of functions and types in *modules*. For example, the `Plots` module allows to plot data.\n",
    "\n",
    "In order to be available in your program, modules must be first installed in your Julia environment with `Pkg.add` and imported with `using`"
   ]
  },
  {
   "cell_type": "code",
   "execution_count": 56,
   "id": "1494b080",
   "metadata": {},
   "outputs": [
    {
     "name": "stderr",
     "output_type": "stream",
     "text": [
      "\u001b[32m\u001b[1m   Resolving\u001b[22m\u001b[39m package versions...\n",
      "\u001b[32m\u001b[1m  No Changes\u001b[22m\u001b[39m to `~/Documents/Code/tutojulia/Project.toml`\n",
      "\u001b[32m\u001b[1m  No Changes\u001b[22m\u001b[39m to `~/Documents/Code/tutojulia/Manifest.toml`\n"
     ]
    }
   ],
   "source": [
    "using Pkg\n",
    "Pkg.add(\"Plots\") # takes a bit of time\n",
    "using Plots"
   ]
  },
  {
   "cell_type": "code",
   "execution_count": 57,
   "id": "944a53a4",
   "metadata": {},
   "outputs": [
    {
     "data": {
      "image/png": "[encoded data removed]",
      "image/svg+xml": [
       "<?xml version=\"1.0\" encoding=\"utf-8\"?>\n",
       "<svg xmlns=\"http://www.w3.org/2000/svg\" xmlns:xlink=\"http://www.w3.org/1999/xlink\" width=\"600\" height=\"400\" viewBox=\"0 0 2400 1600\">\n",
       "<defs>\n",
       "  <clipPath id=\"clip620\">\n",
       "    <rect x=\"0\" y=\"0\" width=\"2400\" height=\"1600\"/>\n",
       "  </clipPath>\n",
       "</defs>\n",
       "<path clip-path=\"url(#clip620)\" d=\"M0 1600 L2400 1600 L2400 0 L0 0  Z\" fill=\"#ffffff\" fill-rule=\"evenodd\" fill-opacity=\"1\"/>\n",
       "<defs>\n",
       "  <clipPath id=\"clip621\">\n",
       "    <rect x=\"480\" y=\"0\" width=\"1681\" height=\"1600\"/>\n",
       "  </clipPath>\n",
       "</defs>\n",
       "<path clip-path=\"url(#clip620)\" d=\"M147.478 1486.45 L2352.76 1486.45 L2352.76 47.2441 L147.478 47.2441  Z\" fill=\"#ffffff\" fill-rule=\"evenodd\" fill-opacity=\"1\"/>\n",
       "<defs>\n",
       "  <clipPath id=\"clip622\">\n",
       "    <rect x=\"147\" y=\"47\" width=\"2206\" height=\"1440\"/>\n",
       "  </clipPath>\n",
       "</defs>\n",
       "<polyline clip-path=\"url(#clip622)\" style=\"stroke:#000000; stroke-linecap:round; stroke-linejoin:round; stroke-width:2; stroke-opacity:0.1; fill:none\" points=\"188.877,1486.45 188.877,47.2441 \"/>\n",
       "<polyline clip-path=\"url(#clip622)\" style=\"stroke:#000000; stroke-linecap:round; stroke-linejoin:round; stroke-width:2; stroke-opacity:0.1; fill:none\" points=\"714.243,1486.45 714.243,47.2441 \"/>\n",
       "<polyline clip-path=\"url(#clip622)\" style=\"stroke:#000000; stroke-linecap:round; stroke-linejoin:round; stroke-width:2; stroke-opacity:0.1; fill:none\" points=\"1239.61,1486.45 1239.61,47.2441 \"/>\n",
       "<polyline clip-path=\"url(#clip622)\" style=\"stroke:#000000; stroke-linecap:round; stroke-linejoin:round; stroke-width:2; stroke-opacity:0.1; fill:none\" points=\"1764.98,1486.45 1764.98,47.2441 \"/>\n",
       "<polyline clip-path=\"url(#clip622)\" style=\"stroke:#000000; stroke-linecap:round; stroke-linejoin:round; stroke-width:2; stroke-opacity:0.1; fill:none\" points=\"2290.34,1486.45 2290.34,47.2441 \"/>\n",
       "<polyline clip-path=\"url(#clip620)\" style=\"stroke:#000000; stroke-linecap:round; stroke-linejoin:round; stroke-width:4; stroke-opacity:1; fill:none\" points=\"147.478,1486.45 2352.76,1486.45 \"/>\n",
       "<polyline clip-path=\"url(#clip620)\" style=\"stroke:#000000; stroke-linecap:round; stroke-linejoin:round; stroke-width:4; stroke-opacity:1; fill:none\" points=\"188.877,1486.45 188.877,1467.55 \"/>\n",
       "<polyline clip-path=\"url(#clip620)\" style=\"stroke:#000000; stroke-linecap:round; stroke-linejoin:round; stroke-width:4; stroke-opacity:1; fill:none\" points=\"714.243,1486.45 714.243,1467.55 \"/>\n",
       "<polyline clip-path=\"url(#clip620)\" style=\"stroke:#000000; stroke-linecap:round; stroke-linejoin:round; stroke-width:4; stroke-opacity:1; fill:none\" points=\"1239.61,1486.45 1239.61,1467.55 \"/>\n",
       "<polyline clip-path=\"url(#clip620)\" style=\"stroke:#000000; stroke-linecap:round; stroke-linejoin:round; stroke-width:4; stroke-opacity:1; fill:none\" points=\"1764.98,1486.45 1764.98,1467.55 \"/>\n",
       "<polyline clip-path=\"url(#clip620)\" style=\"stroke:#000000; stroke-linecap:round; stroke-linejoin:round; stroke-width:4; stroke-opacity:1; fill:none\" points=\"2290.34,1486.45 2290.34,1467.55 \"/>\n",
       "<path clip-path=\"url(#clip620)\" d=\"M188.877 1517.37 Q185.266 1517.37 183.437 1520.93 Q181.631 1524.47 181.631 1531.6 Q181.631 1538.71 183.437 1542.27 Q185.266 1545.82 188.877 1545.82 Q192.511 1545.82 194.317 1542.27 Q196.145 1538.71 196.145 1531.6 Q196.145 1524.47 194.317 1520.93 Q192.511 1517.37 188.877 1517.37 M188.877 1513.66 Q194.687 1513.66 197.742 1518.27 Q200.821 1522.85 200.821 1531.6 Q200.821 1540.33 197.742 1544.94 Q194.687 1549.52 188.877 1549.52 Q183.067 1549.52 179.988 1544.94 Q176.932 1540.33 176.932 1531.6 Q176.932 1522.85 179.988 1518.27 Q183.067 1513.66 188.877 1513.66 Z\" fill=\"#000000\" fill-rule=\"nonzero\" fill-opacity=\"1\" /><path clip-path=\"url(#clip620)\" d=\"M693.514 1544.91 L709.833 1544.91 L709.833 1548.85 L687.889 1548.85 L687.889 1544.91 Q690.551 1542.16 695.134 1537.53 Q699.741 1532.88 700.921 1531.53 Q703.167 1529.01 704.046 1527.27 Q704.949 1525.51 704.949 1523.82 Q704.949 1521.07 703.005 1519.33 Q701.084 1517.6 697.982 1517.6 Q695.783 1517.6 693.329 1518.36 Q690.898 1519.13 688.121 1520.68 L688.121 1515.95 Q690.945 1514.82 693.398 1514.24 Q695.852 1513.66 697.889 1513.66 Q703.259 1513.66 706.454 1516.35 Q709.648 1519.03 709.648 1523.52 Q709.648 1525.65 708.838 1527.57 Q708.051 1529.47 705.945 1532.07 Q705.366 1532.74 702.264 1535.95 Q699.162 1539.15 693.514 1544.91 Z\" fill=\"#000000\" fill-rule=\"nonzero\" fill-opacity=\"1\" /><path clip-path=\"url(#clip620)\" d=\"M719.695 1514.29 L738.051 1514.29 L738.051 1518.22 L723.977 1518.22 L723.977 1526.7 Q724.995 1526.35 726.014 1526.19 Q727.032 1526 728.051 1526 Q733.838 1526 737.218 1529.17 Q740.597 1532.34 740.597 1537.76 Q740.597 1543.34 737.125 1546.44 Q733.653 1549.52 727.333 1549.52 Q725.157 1549.52 722.889 1549.15 Q720.644 1548.78 718.236 1548.04 L718.236 1543.34 Q720.32 1544.47 722.542 1545.03 Q724.764 1545.58 727.241 1545.58 Q731.245 1545.58 733.583 1543.48 Q735.921 1541.37 735.921 1537.76 Q735.921 1534.15 733.583 1532.04 Q731.245 1529.94 727.241 1529.94 Q725.366 1529.94 723.491 1530.35 Q721.639 1530.77 719.695 1531.65 L719.695 1514.29 Z\" fill=\"#000000\" fill-rule=\"nonzero\" fill-opacity=\"1\" /><path clip-path=\"url(#clip620)\" d=\"M1214.31 1514.29 L1232.67 1514.29 L1232.67 1518.22 L1218.59 1518.22 L1218.59 1526.7 Q1219.61 1526.35 1220.63 1526.19 Q1221.65 1526 1222.67 1526 Q1228.45 1526 1231.83 1529.17 Q1235.21 1532.34 1235.21 1537.76 Q1235.21 1543.34 1231.74 1546.44 Q1228.27 1549.52 1221.95 1549.52 Q1219.77 1549.52 1217.5 1549.15 Q1215.26 1548.78 1212.85 1548.04 L1212.85 1543.34 Q1214.93 1544.47 1217.16 1545.03 Q1219.38 1545.58 1221.86 1545.58 Q1225.86 1545.58 1228.2 1543.48 Q1230.54 1541.37 1230.54 1537.76 Q1230.54 1534.15 1228.2 1532.04 Q1225.86 1529.94 1221.86 1529.94 Q1219.98 1529.94 1218.11 1530.35 Q1216.25 1530.77 1214.31 1531.65 L1214.31 1514.29 Z\" fill=\"#000000\" fill-rule=\"nonzero\" fill-opacity=\"1\" /><path clip-path=\"url(#clip620)\" d=\"M1254.42 1517.37 Q1250.81 1517.37 1248.98 1520.93 Q1247.18 1524.47 1247.18 1531.6 Q1247.18 1538.71 1248.98 1542.27 Q1250.81 1545.82 1254.42 1545.82 Q1258.06 1545.82 1259.86 1542.27 Q1261.69 1538.71 1261.69 1531.6 Q1261.69 1524.47 1259.86 1520.93 Q1258.06 1517.37 1254.42 1517.37 M1254.42 1513.66 Q1260.23 1513.66 1263.29 1518.27 Q1266.37 1522.85 1266.37 1531.6 Q1266.37 1540.33 1263.29 1544.94 Q1260.23 1549.52 1254.42 1549.52 Q1248.61 1549.52 1245.54 1544.94 Q1242.48 1540.33 1242.48 1531.6 Q1242.48 1522.85 1245.54 1518.27 Q1248.61 1513.66 1254.42 1513.66 Z\" fill=\"#000000\" fill-rule=\"nonzero\" fill-opacity=\"1\" /><path clip-path=\"url(#clip620)\" d=\"M1738.83 1514.29 L1761.05 1514.29 L1761.05 1516.28 L1748.51 1548.85 L1743.62 1548.85 L1755.43 1518.22 L1738.83 1518.22 L1738.83 1514.29 Z\" fill=\"#000000\" fill-rule=\"nonzero\" fill-opacity=\"1\" /><path clip-path=\"url(#clip620)\" d=\"M1770.22 1514.29 L1788.58 1514.29 L1788.58 1518.22 L1774.5 1518.22 L1774.5 1526.7 Q1775.52 1526.35 1776.54 1526.19 Q1777.56 1526 1778.58 1526 Q1784.36 1526 1787.74 1529.17 Q1791.12 1532.34 1791.12 1537.76 Q1791.12 1543.34 1787.65 1546.44 Q1784.18 1549.52 1777.86 1549.52 Q1775.68 1549.52 1773.41 1549.15 Q1771.17 1548.78 1768.76 1548.04 L1768.76 1543.34 Q1770.84 1544.47 1773.07 1545.03 Q1775.29 1545.58 1777.77 1545.58 Q1781.77 1545.58 1784.11 1543.48 Q1786.45 1541.37 1786.45 1537.76 Q1786.45 1534.15 1784.11 1532.04 Q1781.77 1529.94 1777.77 1529.94 Q1775.89 1529.94 1774.02 1530.35 Q1772.16 1530.77 1770.22 1531.65 L1770.22 1514.29 Z\" fill=\"#000000\" fill-rule=\"nonzero\" fill-opacity=\"1\" /><path clip-path=\"url(#clip620)\" d=\"M2249.95 1544.91 L2257.59 1544.91 L2257.59 1518.55 L2249.28 1520.21 L2249.28 1515.95 L2257.54 1514.29 L2262.22 1514.29 L2262.22 1544.91 L2269.86 1544.91 L2269.86 1548.85 L2249.95 1548.85 L2249.95 1544.91 Z\" fill=\"#000000\" fill-rule=\"nonzero\" fill-opacity=\"1\" /><path clip-path=\"url(#clip620)\" d=\"M2289.3 1517.37 Q2285.69 1517.37 2283.86 1520.93 Q2282.06 1524.47 2282.06 1531.6 Q2282.06 1538.71 2283.86 1542.27 Q2285.69 1545.82 2289.3 1545.82 Q2292.93 1545.82 2294.74 1542.27 Q2296.57 1538.71 2296.57 1531.6 Q2296.57 1524.47 2294.74 1520.93 Q2292.93 1517.37 2289.3 1517.37 M2289.3 1513.66 Q2295.11 1513.66 2298.17 1518.27 Q2301.25 1522.85 2301.25 1531.6 Q2301.25 1540.33 2298.17 1544.94 Q2295.11 1549.52 2289.3 1549.52 Q2283.49 1549.52 2280.41 1544.94 Q2277.36 1540.33 2277.36 1531.6 Q2277.36 1522.85 2280.41 1518.27 Q2283.49 1513.66 2289.3 1513.66 Z\" fill=\"#000000\" fill-rule=\"nonzero\" fill-opacity=\"1\" /><path clip-path=\"url(#clip620)\" d=\"M2319.46 1517.37 Q2315.85 1517.37 2314.02 1520.93 Q2312.22 1524.47 2312.22 1531.6 Q2312.22 1538.71 2314.02 1542.27 Q2315.85 1545.82 2319.46 1545.82 Q2323.1 1545.82 2324.9 1542.27 Q2326.73 1538.71 2326.73 1531.6 Q2326.73 1524.47 2324.9 1520.93 Q2323.1 1517.37 2319.46 1517.37 M2319.46 1513.66 Q2325.27 1513.66 2328.33 1518.27 Q2331.41 1522.85 2331.41 1531.6 Q2331.41 1540.33 2328.33 1544.94 Q2325.27 1549.52 2319.46 1549.52 Q2313.65 1549.52 2310.57 1544.94 Q2307.52 1540.33 2307.52 1531.6 Q2307.52 1522.85 2310.57 1518.27 Q2313.65 1513.66 2319.46 1513.66 Z\" fill=\"#000000\" fill-rule=\"nonzero\" fill-opacity=\"1\" /><polyline clip-path=\"url(#clip622)\" style=\"stroke:#000000; stroke-linecap:round; stroke-linejoin:round; stroke-width:2; stroke-opacity:0.1; fill:none\" points=\"147.478,1345.93 2352.76,1345.93 \"/>\n",
       "<polyline clip-path=\"url(#clip622)\" style=\"stroke:#000000; stroke-linecap:round; stroke-linejoin:round; stroke-width:2; stroke-opacity:0.1; fill:none\" points=\"147.478,1042.47 2352.76,1042.47 \"/>\n",
       "<polyline clip-path=\"url(#clip622)\" style=\"stroke:#000000; stroke-linecap:round; stroke-linejoin:round; stroke-width:2; stroke-opacity:0.1; fill:none\" points=\"147.478,739.019 2352.76,739.019 \"/>\n",
       "<polyline clip-path=\"url(#clip622)\" style=\"stroke:#000000; stroke-linecap:round; stroke-linejoin:round; stroke-width:2; stroke-opacity:0.1; fill:none\" points=\"147.478,435.565 2352.76,435.565 \"/>\n",
       "<polyline clip-path=\"url(#clip622)\" style=\"stroke:#000000; stroke-linecap:round; stroke-linejoin:round; stroke-width:2; stroke-opacity:0.1; fill:none\" points=\"147.478,132.11 2352.76,132.11 \"/>\n",
       "<polyline clip-path=\"url(#clip620)\" style=\"stroke:#000000; stroke-linecap:round; stroke-linejoin:round; stroke-width:4; stroke-opacity:1; fill:none\" points=\"147.478,1486.45 147.478,47.2441 \"/>\n",
       "<polyline clip-path=\"url(#clip620)\" style=\"stroke:#000000; stroke-linecap:round; stroke-linejoin:round; stroke-width:4; stroke-opacity:1; fill:none\" points=\"147.478,1345.93 166.376,1345.93 \"/>\n",
       "<polyline clip-path=\"url(#clip620)\" style=\"stroke:#000000; stroke-linecap:round; stroke-linejoin:round; stroke-width:4; stroke-opacity:1; fill:none\" points=\"147.478,1042.47 166.376,1042.47 \"/>\n",
       "<polyline clip-path=\"url(#clip620)\" style=\"stroke:#000000; stroke-linecap:round; stroke-linejoin:round; stroke-width:4; stroke-opacity:1; fill:none\" points=\"147.478,739.019 166.376,739.019 \"/>\n",
       "<polyline clip-path=\"url(#clip620)\" style=\"stroke:#000000; stroke-linecap:round; stroke-linejoin:round; stroke-width:4; stroke-opacity:1; fill:none\" points=\"147.478,435.565 166.376,435.565 \"/>\n",
       "<polyline clip-path=\"url(#clip620)\" style=\"stroke:#000000; stroke-linecap:round; stroke-linejoin:round; stroke-width:4; stroke-opacity:1; fill:none\" points=\"147.478,132.11 166.376,132.11 \"/>\n",
       "<path clip-path=\"url(#clip620)\" d=\"M51.3625 1346.38 L81.0383 1346.38 L81.0383 1350.31 L51.3625 1350.31 L51.3625 1346.38 Z\" fill=\"#000000\" fill-rule=\"nonzero\" fill-opacity=\"1\" /><path clip-path=\"url(#clip620)\" d=\"M95.1586 1359.27 L111.478 1359.27 L111.478 1363.21 L89.5336 1363.21 L89.5336 1359.27 Q92.1956 1356.52 96.7789 1351.89 Q101.385 1347.24 102.566 1345.89 Q104.811 1343.37 105.691 1341.63 Q106.594 1339.88 106.594 1338.19 Q106.594 1335.43 104.649 1333.69 Q102.728 1331.96 99.6261 1331.96 Q97.4271 1331.96 94.9734 1332.72 Q92.5428 1333.49 89.7651 1335.04 L89.7651 1330.31 Q92.5891 1329.18 95.0428 1328.6 Q97.4965 1328.02 99.5335 1328.02 Q104.904 1328.02 108.098 1330.71 Q111.293 1333.39 111.293 1337.88 Q111.293 1340.01 110.483 1341.94 Q109.696 1343.83 107.589 1346.43 Q107.01 1347.1 103.909 1350.31 Q100.807 1353.51 95.1586 1359.27 Z\" fill=\"#000000\" fill-rule=\"nonzero\" fill-opacity=\"1\" /><path clip-path=\"url(#clip620)\" d=\"M50.9921 1042.93 L80.6679 1042.93 L80.6679 1046.86 L50.9921 1046.86 L50.9921 1042.93 Z\" fill=\"#000000\" fill-rule=\"nonzero\" fill-opacity=\"1\" /><path clip-path=\"url(#clip620)\" d=\"M91.5706 1055.82 L99.2095 1055.82 L99.2095 1029.45 L90.8993 1031.12 L90.8993 1026.86 L99.1632 1025.19 L103.839 1025.19 L103.839 1055.82 L111.478 1055.82 L111.478 1059.75 L91.5706 1059.75 L91.5706 1055.82 Z\" fill=\"#000000\" fill-rule=\"nonzero\" fill-opacity=\"1\" /><path clip-path=\"url(#clip620)\" d=\"M99.5335 724.818 Q95.9224 724.818 94.0937 728.383 Q92.2882 731.924 92.2882 739.054 Q92.2882 746.16 94.0937 749.725 Q95.9224 753.267 99.5335 753.267 Q103.168 753.267 104.973 749.725 Q106.802 746.16 106.802 739.054 Q106.802 731.924 104.973 728.383 Q103.168 724.818 99.5335 724.818 M99.5335 721.114 Q105.344 721.114 108.399 725.721 Q111.478 730.304 111.478 739.054 Q111.478 747.781 108.399 752.387 Q105.344 756.971 99.5335 756.971 Q93.7234 756.971 90.6447 752.387 Q87.5892 747.781 87.5892 739.054 Q87.5892 730.304 90.6447 725.721 Q93.7234 721.114 99.5335 721.114 Z\" fill=\"#000000\" fill-rule=\"nonzero\" fill-opacity=\"1\" /><path clip-path=\"url(#clip620)\" d=\"M91.5706 448.91 L99.2095 448.91 L99.2095 422.544 L90.8993 424.211 L90.8993 419.951 L99.1632 418.285 L103.839 418.285 L103.839 448.91 L111.478 448.91 L111.478 452.845 L91.5706 452.845 L91.5706 448.91 Z\" fill=\"#000000\" fill-rule=\"nonzero\" fill-opacity=\"1\" /><path clip-path=\"url(#clip620)\" d=\"M95.1586 145.455 L111.478 145.455 L111.478 149.39 L89.5336 149.39 L89.5336 145.455 Q92.1956 142.701 96.7789 138.071 Q101.385 133.418 102.566 132.076 Q104.811 129.552 105.691 127.816 Q106.594 126.057 106.594 124.367 Q106.594 121.613 104.649 119.877 Q102.728 118.141 99.6261 118.141 Q97.4271 118.141 94.9734 118.904 Q92.5428 119.668 89.7651 121.219 L89.7651 116.497 Q92.5891 115.363 95.0428 114.784 Q97.4965 114.205 99.5335 114.205 Q104.904 114.205 108.098 116.891 Q111.293 119.576 111.293 124.066 Q111.293 126.196 110.483 128.117 Q109.696 130.015 107.589 132.608 Q107.01 133.279 103.909 136.497 Q100.807 139.691 95.1586 145.455 Z\" fill=\"#000000\" fill-rule=\"nonzero\" fill-opacity=\"1\" /><polyline clip-path=\"url(#clip622)\" style=\"stroke:#009af9; stroke-linecap:round; stroke-linejoin:round; stroke-width:4; stroke-opacity:1; fill:none\" points=\"209.891,865.526 230.906,937.942 251.921,836.628 272.935,584.975 293.95,568.247 314.965,991.151 335.979,369.93 356.994,309.574 378.009,1023.62 399.023,828.732 420.038,776.978 441.053,695.604 462.067,766.397 483.082,456.855 504.097,558.862 525.111,1061.14 546.126,947.639 567.141,740.185 588.155,484.265 609.17,733.461 630.185,635.365 651.199,1157.25 672.214,697.999 693.229,483.979 714.243,402.032 735.258,488.519 756.272,665.076 777.287,390.778 798.302,758.295 819.316,1031.16 840.331,615.824 861.346,1366.1 882.36,654.472 903.375,845.766 924.39,423.441 945.404,1007.51 966.419,836.597 987.434,894.179 1008.45,924.457 1029.46,819.915 1050.48,754.791 1071.49,849.967 1092.51,540.762 1113.52,852.929 1134.54,87.9763 1155.55,391.996 1176.57,901.216 1197.58,218.139 1218.59,666.557 1239.61,506.858 1260.62,999.019 1281.64,603.716 1302.65,432.675 1323.67,300.68 1344.68,126.819 1365.7,927.862 1386.71,893.894 1407.73,1156.17 1428.74,909.056 1449.76,660.211 1470.77,404.724 1491.79,553.026 1512.8,952.833 1533.81,1222.53 1554.83,1098.85 1575.84,723.065 1596.86,671.756 1617.87,1261.97 1638.89,1137.13 1659.9,683.173 1680.92,893.569 1701.93,714.332 1722.95,861.868 1743.96,459.515 1764.98,850.716 1785.99,1068.77 1807.01,957.036 1828.02,1330.08 1849.03,845.936 1870.05,915.749 1891.06,473.705 1912.08,319.294 1933.09,648.89 1954.11,411.738 1975.12,877.378 1996.14,627.615 2017.15,672.382 2038.17,542.595 2059.18,648.156 2080.2,1011.91 2101.21,601.21 2122.23,1230.46 2143.24,542.179 2164.25,1445.72 2185.27,1189.11 2206.28,787.997 2227.3,429.571 2248.31,446.84 2269.33,845.211 2290.34,925.254 \"/>\n",
       "<path clip-path=\"url(#clip620)\" d=\"M220.987 1438.47 L493.945 1438.47 L493.945 1334.79 L220.987 1334.79  Z\" fill=\"#ffffff\" fill-rule=\"evenodd\" fill-opacity=\"1\"/>\n",
       "<polyline clip-path=\"url(#clip620)\" style=\"stroke:#000000; stroke-linecap:round; stroke-linejoin:round; stroke-width:4; stroke-opacity:1; fill:none\" points=\"220.987,1438.47 493.945,1438.47 493.945,1334.79 220.987,1334.79 220.987,1438.47 \"/>\n",
       "<polyline clip-path=\"url(#clip620)\" style=\"stroke:#009af9; stroke-linecap:round; stroke-linejoin:round; stroke-width:4; stroke-opacity:1; fill:none\" points=\"245.49,1386.63 392.509,1386.63 \"/>\n",
       "<path clip-path=\"url(#clip620)\" d=\"M430.854 1406.32 Q429.049 1410.95 427.336 1412.36 Q425.623 1413.78 422.753 1413.78 L419.35 1413.78 L419.35 1410.21 L421.85 1410.21 Q423.609 1410.21 424.581 1409.38 Q425.554 1408.54 426.734 1405.44 L427.498 1403.5 L417.012 1377.99 L421.526 1377.99 L429.628 1398.27 L437.729 1377.99 L442.243 1377.99 L430.854 1406.32 Z\" fill=\"#000000\" fill-rule=\"nonzero\" fill-opacity=\"1\" /><path clip-path=\"url(#clip620)\" d=\"M449.535 1399.98 L457.174 1399.98 L457.174 1373.61 L448.864 1375.28 L448.864 1371.02 L457.127 1369.35 L461.803 1369.35 L461.803 1399.98 L469.442 1399.98 L469.442 1403.91 L449.535 1403.91 L449.535 1399.98 Z\" fill=\"#000000\" fill-rule=\"nonzero\" fill-opacity=\"1\" /></svg>\n"
      ],
      "text/html": [
       "<?xml version=\"1.0\" encoding=\"utf-8\"?>\n",
       "<svg xmlns=\"http://www.w3.org/2000/svg\" xmlns:xlink=\"http://www.w3.org/1999/xlink\" width=\"600\" height=\"400\" viewBox=\"0 0 2400 1600\">\n",
       "<defs>\n",
       "  <clipPath id=\"clip670\">\n",
       "    <rect x=\"0\" y=\"0\" width=\"2400\" height=\"1600\"/>\n",
       "  </clipPath>\n",
       "</defs>\n",
       "<path clip-path=\"url(#clip670)\" d=\"M0 1600 L2400 1600 L2400 0 L0 0  Z\" fill=\"#ffffff\" fill-rule=\"evenodd\" fill-opacity=\"1\"/>\n",
       "<defs>\n",
       "  <clipPath id=\"clip671\">\n",
       "    <rect x=\"480\" y=\"0\" width=\"1681\" height=\"1600\"/>\n",
       "  </clipPath>\n",
       "</defs>\n",
       "<path clip-path=\"url(#clip670)\" d=\"M147.478 1486.45 L2352.76 1486.45 L2352.76 47.2441 L147.478 47.2441  Z\" fill=\"#ffffff\" fill-rule=\"evenodd\" fill-opacity=\"1\"/>\n",
       "<defs>\n",
       "  <clipPath id=\"clip672\">\n",
       "    <rect x=\"147\" y=\"47\" width=\"2206\" height=\"1440\"/>\n",
       "  </clipPath>\n",
       "</defs>\n",
       "<polyline clip-path=\"url(#clip672)\" style=\"stroke:#000000; stroke-linecap:round; stroke-linejoin:round; stroke-width:2; stroke-opacity:0.1; fill:none\" points=\"188.877,1486.45 188.877,47.2441 \"/>\n",
       "<polyline clip-path=\"url(#clip672)\" style=\"stroke:#000000; stroke-linecap:round; stroke-linejoin:round; stroke-width:2; stroke-opacity:0.1; fill:none\" points=\"714.243,1486.45 714.243,47.2441 \"/>\n",
       "<polyline clip-path=\"url(#clip672)\" style=\"stroke:#000000; stroke-linecap:round; stroke-linejoin:round; stroke-width:2; stroke-opacity:0.1; fill:none\" points=\"1239.61,1486.45 1239.61,47.2441 \"/>\n",
       "<polyline clip-path=\"url(#clip672)\" style=\"stroke:#000000; stroke-linecap:round; stroke-linejoin:round; stroke-width:2; stroke-opacity:0.1; fill:none\" points=\"1764.98,1486.45 1764.98,47.2441 \"/>\n",
       "<polyline clip-path=\"url(#clip672)\" style=\"stroke:#000000; stroke-linecap:round; stroke-linejoin:round; stroke-width:2; stroke-opacity:0.1; fill:none\" points=\"2290.34,1486.45 2290.34,47.2441 \"/>\n",
       "<polyline clip-path=\"url(#clip670)\" style=\"stroke:#000000; stroke-linecap:round; stroke-linejoin:round; stroke-width:4; stroke-opacity:1; fill:none\" points=\"147.478,1486.45 2352.76,1486.45 \"/>\n",
       "<polyline clip-path=\"url(#clip670)\" style=\"stroke:#000000; stroke-linecap:round; stroke-linejoin:round; stroke-width:4; stroke-opacity:1; fill:none\" points=\"188.877,1486.45 188.877,1467.55 \"/>\n",
       "<polyline clip-path=\"url(#clip670)\" style=\"stroke:#000000; stroke-linecap:round; stroke-linejoin:round; stroke-width:4; stroke-opacity:1; fill:none\" points=\"714.243,1486.45 714.243,1467.55 \"/>\n",
       "<polyline clip-path=\"url(#clip670)\" style=\"stroke:#000000; stroke-linecap:round; stroke-linejoin:round; stroke-width:4; stroke-opacity:1; fill:none\" points=\"1239.61,1486.45 1239.61,1467.55 \"/>\n",
       "<polyline clip-path=\"url(#clip670)\" style=\"stroke:#000000; stroke-linecap:round; stroke-linejoin:round; stroke-width:4; stroke-opacity:1; fill:none\" points=\"1764.98,1486.45 1764.98,1467.55 \"/>\n",
       "<polyline clip-path=\"url(#clip670)\" style=\"stroke:#000000; stroke-linecap:round; stroke-linejoin:round; stroke-width:4; stroke-opacity:1; fill:none\" points=\"2290.34,1486.45 2290.34,1467.55 \"/>\n",
       "<path clip-path=\"url(#clip670)\" d=\"M188.877 1517.37 Q185.266 1517.37 183.437 1520.93 Q181.631 1524.47 181.631 1531.6 Q181.631 1538.71 183.437 1542.27 Q185.266 1545.82 188.877 1545.82 Q192.511 1545.82 194.317 1542.27 Q196.145 1538.71 196.145 1531.6 Q196.145 1524.47 194.317 1520.93 Q192.511 1517.37 188.877 1517.37 M188.877 1513.66 Q194.687 1513.66 197.742 1518.27 Q200.821 1522.85 200.821 1531.6 Q200.821 1540.33 197.742 1544.94 Q194.687 1549.52 188.877 1549.52 Q183.067 1549.52 179.988 1544.94 Q176.932 1540.33 176.932 1531.6 Q176.932 1522.85 179.988 1518.27 Q183.067 1513.66 188.877 1513.66 Z\" fill=\"#000000\" fill-rule=\"nonzero\" fill-opacity=\"1\" /><path clip-path=\"url(#clip670)\" d=\"M693.514 1544.91 L709.833 1544.91 L709.833 1548.85 L687.889 1548.85 L687.889 1544.91 Q690.551 1542.16 695.134 1537.53 Q699.741 1532.88 700.921 1531.53 Q703.167 1529.01 704.046 1527.27 Q704.949 1525.51 704.949 1523.82 Q704.949 1521.07 703.005 1519.33 Q701.084 1517.6 697.982 1517.6 Q695.783 1517.6 693.329 1518.36 Q690.898 1519.13 688.121 1520.68 L688.121 1515.95 Q690.945 1514.82 693.398 1514.24 Q695.852 1513.66 697.889 1513.66 Q703.259 1513.66 706.454 1516.35 Q709.648 1519.03 709.648 1523.52 Q709.648 1525.65 708.838 1527.57 Q708.051 1529.47 705.945 1532.07 Q705.366 1532.74 702.264 1535.95 Q699.162 1539.15 693.514 1544.91 Z\" fill=\"#000000\" fill-rule=\"nonzero\" fill-opacity=\"1\" /><path clip-path=\"url(#clip670)\" d=\"M719.695 1514.29 L738.051 1514.29 L738.051 1518.22 L723.977 1518.22 L723.977 1526.7 Q724.995 1526.35 726.014 1526.19 Q727.032 1526 728.051 1526 Q733.838 1526 737.218 1529.17 Q740.597 1532.34 740.597 1537.76 Q740.597 1543.34 737.125 1546.44 Q733.653 1549.52 727.333 1549.52 Q725.157 1549.52 722.889 1549.15 Q720.644 1548.78 718.236 1548.04 L718.236 1543.34 Q720.32 1544.47 722.542 1545.03 Q724.764 1545.58 727.241 1545.58 Q731.245 1545.58 733.583 1543.48 Q735.921 1541.37 735.921 1537.76 Q735.921 1534.15 733.583 1532.04 Q731.245 1529.94 727.241 1529.94 Q725.366 1529.94 723.491 1530.35 Q721.639 1530.77 719.695 1531.65 L719.695 1514.29 Z\" fill=\"#000000\" fill-rule=\"nonzero\" fill-opacity=\"1\" /><path clip-path=\"url(#clip670)\" d=\"M1214.31 1514.29 L1232.67 1514.29 L1232.67 1518.22 L1218.59 1518.22 L1218.59 1526.7 Q1219.61 1526.35 1220.63 1526.19 Q1221.65 1526 1222.67 1526 Q1228.45 1526 1231.83 1529.17 Q1235.21 1532.34 1235.21 1537.76 Q1235.21 1543.34 1231.74 1546.44 Q1228.27 1549.52 1221.95 1549.52 Q1219.77 1549.52 1217.5 1549.15 Q1215.26 1548.78 1212.85 1548.04 L1212.85 1543.34 Q1214.93 1544.47 1217.16 1545.03 Q1219.38 1545.58 1221.86 1545.58 Q1225.86 1545.58 1228.2 1543.48 Q1230.54 1541.37 1230.54 1537.76 Q1230.54 1534.15 1228.2 1532.04 Q1225.86 1529.94 1221.86 1529.94 Q1219.98 1529.94 1218.11 1530.35 Q1216.25 1530.77 1214.31 1531.65 L1214.31 1514.29 Z\" fill=\"#000000\" fill-rule=\"nonzero\" fill-opacity=\"1\" /><path clip-path=\"url(#clip670)\" d=\"M1254.42 1517.37 Q1250.81 1517.37 1248.98 1520.93 Q1247.18 1524.47 1247.18 1531.6 Q1247.18 1538.71 1248.98 1542.27 Q1250.81 1545.82 1254.42 1545.82 Q1258.06 1545.82 1259.86 1542.27 Q1261.69 1538.71 1261.69 1531.6 Q1261.69 1524.47 1259.86 1520.93 Q1258.06 1517.37 1254.42 1517.37 M1254.42 1513.66 Q1260.23 1513.66 1263.29 1518.27 Q1266.37 1522.85 1266.37 1531.6 Q1266.37 1540.33 1263.29 1544.94 Q1260.23 1549.52 1254.42 1549.52 Q1248.61 1549.52 1245.54 1544.94 Q1242.48 1540.33 1242.48 1531.6 Q1242.48 1522.85 1245.54 1518.27 Q1248.61 1513.66 1254.42 1513.66 Z\" fill=\"#000000\" fill-rule=\"nonzero\" fill-opacity=\"1\" /><path clip-path=\"url(#clip670)\" d=\"M1738.83 1514.29 L1761.05 1514.29 L1761.05 1516.28 L1748.51 1548.85 L1743.62 1548.85 L1755.43 1518.22 L1738.83 1518.22 L1738.83 1514.29 Z\" fill=\"#000000\" fill-rule=\"nonzero\" fill-opacity=\"1\" /><path clip-path=\"url(#clip670)\" d=\"M1770.22 1514.29 L1788.58 1514.29 L1788.58 1518.22 L1774.5 1518.22 L1774.5 1526.7 Q1775.52 1526.35 1776.54 1526.19 Q1777.56 1526 1778.58 1526 Q1784.36 1526 1787.74 1529.17 Q1791.12 1532.34 1791.12 1537.76 Q1791.12 1543.34 1787.65 1546.44 Q1784.18 1549.52 1777.86 1549.52 Q1775.68 1549.52 1773.41 1549.15 Q1771.17 1548.78 1768.76 1548.04 L1768.76 1543.34 Q1770.84 1544.47 1773.07 1545.03 Q1775.29 1545.58 1777.77 1545.58 Q1781.77 1545.58 1784.11 1543.48 Q1786.45 1541.37 1786.45 1537.76 Q1786.45 1534.15 1784.11 1532.04 Q1781.77 1529.94 1777.77 1529.94 Q1775.89 1529.94 1774.02 1530.35 Q1772.16 1530.77 1770.22 1531.65 L1770.22 1514.29 Z\" fill=\"#000000\" fill-rule=\"nonzero\" fill-opacity=\"1\" /><path clip-path=\"url(#clip670)\" d=\"M2249.95 1544.91 L2257.59 1544.91 L2257.59 1518.55 L2249.28 1520.21 L2249.28 1515.95 L2257.54 1514.29 L2262.22 1514.29 L2262.22 1544.91 L2269.86 1544.91 L2269.86 1548.85 L2249.95 1548.85 L2249.95 1544.91 Z\" fill=\"#000000\" fill-rule=\"nonzero\" fill-opacity=\"1\" /><path clip-path=\"url(#clip670)\" d=\"M2289.3 1517.37 Q2285.69 1517.37 2283.86 1520.93 Q2282.06 1524.47 2282.06 1531.6 Q2282.06 1538.71 2283.86 1542.27 Q2285.69 1545.82 2289.3 1545.82 Q2292.93 1545.82 2294.74 1542.27 Q2296.57 1538.71 2296.57 1531.6 Q2296.57 1524.47 2294.74 1520.93 Q2292.93 1517.37 2289.3 1517.37 M2289.3 1513.66 Q2295.11 1513.66 2298.17 1518.27 Q2301.25 1522.85 2301.25 1531.6 Q2301.25 1540.33 2298.17 1544.94 Q2295.11 1549.52 2289.3 1549.52 Q2283.49 1549.52 2280.41 1544.94 Q2277.36 1540.33 2277.36 1531.6 Q2277.36 1522.85 2280.41 1518.27 Q2283.49 1513.66 2289.3 1513.66 Z\" fill=\"#000000\" fill-rule=\"nonzero\" fill-opacity=\"1\" /><path clip-path=\"url(#clip670)\" d=\"M2319.46 1517.37 Q2315.85 1517.37 2314.02 1520.93 Q2312.22 1524.47 2312.22 1531.6 Q2312.22 1538.71 2314.02 1542.27 Q2315.85 1545.82 2319.46 1545.82 Q2323.1 1545.82 2324.9 1542.27 Q2326.73 1538.71 2326.73 1531.6 Q2326.73 1524.47 2324.9 1520.93 Q2323.1 1517.37 2319.46 1517.37 M2319.46 1513.66 Q2325.27 1513.66 2328.33 1518.27 Q2331.41 1522.85 2331.41 1531.6 Q2331.41 1540.33 2328.33 1544.94 Q2325.27 1549.52 2319.46 1549.52 Q2313.65 1549.52 2310.57 1544.94 Q2307.52 1540.33 2307.52 1531.6 Q2307.52 1522.85 2310.57 1518.27 Q2313.65 1513.66 2319.46 1513.66 Z\" fill=\"#000000\" fill-rule=\"nonzero\" fill-opacity=\"1\" /><polyline clip-path=\"url(#clip672)\" style=\"stroke:#000000; stroke-linecap:round; stroke-linejoin:round; stroke-width:2; stroke-opacity:0.1; fill:none\" points=\"147.478,1345.93 2352.76,1345.93 \"/>\n",
       "<polyline clip-path=\"url(#clip672)\" style=\"stroke:#000000; stroke-linecap:round; stroke-linejoin:round; stroke-width:2; stroke-opacity:0.1; fill:none\" points=\"147.478,1042.47 2352.76,1042.47 \"/>\n",
       "<polyline clip-path=\"url(#clip672)\" style=\"stroke:#000000; stroke-linecap:round; stroke-linejoin:round; stroke-width:2; stroke-opacity:0.1; fill:none\" points=\"147.478,739.019 2352.76,739.019 \"/>\n",
       "<polyline clip-path=\"url(#clip672)\" style=\"stroke:#000000; stroke-linecap:round; stroke-linejoin:round; stroke-width:2; stroke-opacity:0.1; fill:none\" points=\"147.478,435.565 2352.76,435.565 \"/>\n",
       "<polyline clip-path=\"url(#clip672)\" style=\"stroke:#000000; stroke-linecap:round; stroke-linejoin:round; stroke-width:2; stroke-opacity:0.1; fill:none\" points=\"147.478,132.11 2352.76,132.11 \"/>\n",
       "<polyline clip-path=\"url(#clip670)\" style=\"stroke:#000000; stroke-linecap:round; stroke-linejoin:round; stroke-width:4; stroke-opacity:1; fill:none\" points=\"147.478,1486.45 147.478,47.2441 \"/>\n",
       "<polyline clip-path=\"url(#clip670)\" style=\"stroke:#000000; stroke-linecap:round; stroke-linejoin:round; stroke-width:4; stroke-opacity:1; fill:none\" points=\"147.478,1345.93 166.376,1345.93 \"/>\n",
       "<polyline clip-path=\"url(#clip670)\" style=\"stroke:#000000; stroke-linecap:round; stroke-linejoin:round; stroke-width:4; stroke-opacity:1; fill:none\" points=\"147.478,1042.47 166.376,1042.47 \"/>\n",
       "<polyline clip-path=\"url(#clip670)\" style=\"stroke:#000000; stroke-linecap:round; stroke-linejoin:round; stroke-width:4; stroke-opacity:1; fill:none\" points=\"147.478,739.019 166.376,739.019 \"/>\n",
       "<polyline clip-path=\"url(#clip670)\" style=\"stroke:#000000; stroke-linecap:round; stroke-linejoin:round; stroke-width:4; stroke-opacity:1; fill:none\" points=\"147.478,435.565 166.376,435.565 \"/>\n",
       "<polyline clip-path=\"url(#clip670)\" style=\"stroke:#000000; stroke-linecap:round; stroke-linejoin:round; stroke-width:4; stroke-opacity:1; fill:none\" points=\"147.478,132.11 166.376,132.11 \"/>\n",
       "<path clip-path=\"url(#clip670)\" d=\"M51.3625 1346.38 L81.0383 1346.38 L81.0383 1350.31 L51.3625 1350.31 L51.3625 1346.38 Z\" fill=\"#000000\" fill-rule=\"nonzero\" fill-opacity=\"1\" /><path clip-path=\"url(#clip670)\" d=\"M95.1586 1359.27 L111.478 1359.27 L111.478 1363.21 L89.5336 1363.21 L89.5336 1359.27 Q92.1956 1356.52 96.7789 1351.89 Q101.385 1347.24 102.566 1345.89 Q104.811 1343.37 105.691 1341.63 Q106.594 1339.88 106.594 1338.19 Q106.594 1335.43 104.649 1333.69 Q102.728 1331.96 99.6261 1331.96 Q97.4271 1331.96 94.9734 1332.72 Q92.5428 1333.49 89.7651 1335.04 L89.7651 1330.31 Q92.5891 1329.18 95.0428 1328.6 Q97.4965 1328.02 99.5335 1328.02 Q104.904 1328.02 108.098 1330.71 Q111.293 1333.39 111.293 1337.88 Q111.293 1340.01 110.483 1341.94 Q109.696 1343.83 107.589 1346.43 Q107.01 1347.1 103.909 1350.31 Q100.807 1353.51 95.1586 1359.27 Z\" fill=\"#000000\" fill-rule=\"nonzero\" fill-opacity=\"1\" /><path clip-path=\"url(#clip670)\" d=\"M50.9921 1042.93 L80.6679 1042.93 L80.6679 1046.86 L50.9921 1046.86 L50.9921 1042.93 Z\" fill=\"#000000\" fill-rule=\"nonzero\" fill-opacity=\"1\" /><path clip-path=\"url(#clip670)\" d=\"M91.5706 1055.82 L99.2095 1055.82 L99.2095 1029.45 L90.8993 1031.12 L90.8993 1026.86 L99.1632 1025.19 L103.839 1025.19 L103.839 1055.82 L111.478 1055.82 L111.478 1059.75 L91.5706 1059.75 L91.5706 1055.82 Z\" fill=\"#000000\" fill-rule=\"nonzero\" fill-opacity=\"1\" /><path clip-path=\"url(#clip670)\" d=\"M99.5335 724.818 Q95.9224 724.818 94.0937 728.383 Q92.2882 731.924 92.2882 739.054 Q92.2882 746.16 94.0937 749.725 Q95.9224 753.267 99.5335 753.267 Q103.168 753.267 104.973 749.725 Q106.802 746.16 106.802 739.054 Q106.802 731.924 104.973 728.383 Q103.168 724.818 99.5335 724.818 M99.5335 721.114 Q105.344 721.114 108.399 725.721 Q111.478 730.304 111.478 739.054 Q111.478 747.781 108.399 752.387 Q105.344 756.971 99.5335 756.971 Q93.7234 756.971 90.6447 752.387 Q87.5892 747.781 87.5892 739.054 Q87.5892 730.304 90.6447 725.721 Q93.7234 721.114 99.5335 721.114 Z\" fill=\"#000000\" fill-rule=\"nonzero\" fill-opacity=\"1\" /><path clip-path=\"url(#clip670)\" d=\"M91.5706 448.91 L99.2095 448.91 L99.2095 422.544 L90.8993 424.211 L90.8993 419.951 L99.1632 418.285 L103.839 418.285 L103.839 448.91 L111.478 448.91 L111.478 452.845 L91.5706 452.845 L91.5706 448.91 Z\" fill=\"#000000\" fill-rule=\"nonzero\" fill-opacity=\"1\" /><path clip-path=\"url(#clip670)\" d=\"M95.1586 145.455 L111.478 145.455 L111.478 149.39 L89.5336 149.39 L89.5336 145.455 Q92.1956 142.701 96.7789 138.071 Q101.385 133.418 102.566 132.076 Q104.811 129.552 105.691 127.816 Q106.594 126.057 106.594 124.367 Q106.594 121.613 104.649 119.877 Q102.728 118.141 99.6261 118.141 Q97.4271 118.141 94.9734 118.904 Q92.5428 119.668 89.7651 121.219 L89.7651 116.497 Q92.5891 115.363 95.0428 114.784 Q97.4965 114.205 99.5335 114.205 Q104.904 114.205 108.098 116.891 Q111.293 119.576 111.293 124.066 Q111.293 126.196 110.483 128.117 Q109.696 130.015 107.589 132.608 Q107.01 133.279 103.909 136.497 Q100.807 139.691 95.1586 145.455 Z\" fill=\"#000000\" fill-rule=\"nonzero\" fill-opacity=\"1\" /><polyline clip-path=\"url(#clip672)\" style=\"stroke:#009af9; stroke-linecap:round; stroke-linejoin:round; stroke-width:4; stroke-opacity:1; fill:none\" points=\"209.891,865.526 230.906,937.942 251.921,836.628 272.935,584.975 293.95,568.247 314.965,991.151 335.979,369.93 356.994,309.574 378.009,1023.62 399.023,828.732 420.038,776.978 441.053,695.604 462.067,766.397 483.082,456.855 504.097,558.862 525.111,1061.14 546.126,947.639 567.141,740.185 588.155,484.265 609.17,733.461 630.185,635.365 651.199,1157.25 672.214,697.999 693.229,483.979 714.243,402.032 735.258,488.519 756.272,665.076 777.287,390.778 798.302,758.295 819.316,1031.16 840.331,615.824 861.346,1366.1 882.36,654.472 903.375,845.766 924.39,423.441 945.404,1007.51 966.419,836.597 987.434,894.179 1008.45,924.457 1029.46,819.915 1050.48,754.791 1071.49,849.967 1092.51,540.762 1113.52,852.929 1134.54,87.9763 1155.55,391.996 1176.57,901.216 1197.58,218.139 1218.59,666.557 1239.61,506.858 1260.62,999.019 1281.64,603.716 1302.65,432.675 1323.67,300.68 1344.68,126.819 1365.7,927.862 1386.71,893.894 1407.73,1156.17 1428.74,909.056 1449.76,660.211 1470.77,404.724 1491.79,553.026 1512.8,952.833 1533.81,1222.53 1554.83,1098.85 1575.84,723.065 1596.86,671.756 1617.87,1261.97 1638.89,1137.13 1659.9,683.173 1680.92,893.569 1701.93,714.332 1722.95,861.868 1743.96,459.515 1764.98,850.716 1785.99,1068.77 1807.01,957.036 1828.02,1330.08 1849.03,845.936 1870.05,915.749 1891.06,473.705 1912.08,319.294 1933.09,648.89 1954.11,411.738 1975.12,877.378 1996.14,627.615 2017.15,672.382 2038.17,542.595 2059.18,648.156 2080.2,1011.91 2101.21,601.21 2122.23,1230.46 2143.24,542.179 2164.25,1445.72 2185.27,1189.11 2206.28,787.997 2227.3,429.571 2248.31,446.84 2269.33,845.211 2290.34,925.254 \"/>\n",
       "<path clip-path=\"url(#clip670)\" d=\"M220.987 1438.47 L493.945 1438.47 L493.945 1334.79 L220.987 1334.79  Z\" fill=\"#ffffff\" fill-rule=\"evenodd\" fill-opacity=\"1\"/>\n",
       "<polyline clip-path=\"url(#clip670)\" style=\"stroke:#000000; stroke-linecap:round; stroke-linejoin:round; stroke-width:4; stroke-opacity:1; fill:none\" points=\"220.987,1438.47 493.945,1438.47 493.945,1334.79 220.987,1334.79 220.987,1438.47 \"/>\n",
       "<polyline clip-path=\"url(#clip670)\" style=\"stroke:#009af9; stroke-linecap:round; stroke-linejoin:round; stroke-width:4; stroke-opacity:1; fill:none\" points=\"245.49,1386.63 392.509,1386.63 \"/>\n",
       "<path clip-path=\"url(#clip670)\" d=\"M430.854 1406.32 Q429.049 1410.95 427.336 1412.36 Q425.623 1413.78 422.753 1413.78 L419.35 1413.78 L419.35 1410.21 L421.85 1410.21 Q423.609 1410.21 424.581 1409.38 Q425.554 1408.54 426.734 1405.44 L427.498 1403.5 L417.012 1377.99 L421.526 1377.99 L429.628 1398.27 L437.729 1377.99 L442.243 1377.99 L430.854 1406.32 Z\" fill=\"#000000\" fill-rule=\"nonzero\" fill-opacity=\"1\" /><path clip-path=\"url(#clip670)\" d=\"M449.535 1399.98 L457.174 1399.98 L457.174 1373.61 L448.864 1375.28 L448.864 1371.02 L457.127 1369.35 L461.803 1369.35 L461.803 1399.98 L469.442 1399.98 L469.442 1403.91 L449.535 1403.91 L449.535 1399.98 Z\" fill=\"#000000\" fill-rule=\"nonzero\" fill-opacity=\"1\" /></svg>\n"
      ]
     },
     "metadata": {},
     "output_type": "display_data"
    }
   ],
   "source": [
    "plot(1:100, randn(100))"
   ]
  },
  {
   "cell_type": "markdown",
   "id": "ff707dc2",
   "metadata": {},
   "source": [
    "### Macros\n",
    "\n",
    "Macros are user-friendly wrappers for some Julia functions. In general, they allow to use specific functions while keeping a nice syntax. Two examples :\n",
    "\n",
    "`@time` gives you some benchmark statistics about a given expression."
   ]
  },
  {
   "cell_type": "code",
   "execution_count": 58,
   "id": "52d94212",
   "metadata": {},
   "outputs": [
    {
     "name": "stdout",
     "output_type": "stream",
     "text": [
      "  0.000570 seconds (2 allocations: 1.144 MiB)\n"
     ]
    },
    {
     "data": {
      "text/plain": [
       "150000-element Vector{Float64}:\n",
       " -0.3172266622620094\n",
       "  2.0967250546058835\n",
       "  0.42422061524100624\n",
       " -0.6754035970448686\n",
       "  1.0325854045887035\n",
       " -0.4421719893052222\n",
       "  0.49663763372547265\n",
       " -0.51998931286748\n",
       " -1.5822475220275833\n",
       " -1.5442431793716054\n",
       "  ⋮\n",
       " -0.47098101389884484\n",
       "  0.22687507417462502\n",
       "  1.7689973723651493\n",
       "  0.2664694975064329\n",
       " -0.17984542405102139\n",
       "  0.3747194021128628\n",
       " -0.10453117584637554\n",
       "  0.8445663844077479\n",
       "  0.6606103208079077"
      ]
     },
     "metadata": {},
     "output_type": "display_data"
    }
   ],
   "source": [
    "@time randn(150000)"
   ]
  },
  {
   "cell_type": "markdown",
   "id": "156eff4b",
   "metadata": {},
   "source": [
    "`@info` is a fancy alternative to `println`, the basic function to log output to the console."
   ]
  },
  {
   "cell_type": "code",
   "execution_count": 59,
   "id": "efe7578e",
   "metadata": {},
   "outputs": [
    {
     "name": "stderr",
     "output_type": "stream",
     "text": [
      "┌ Info: Hi there !\n",
      "└ @ Main /home/josquin/Documents/Code/tutojulia/basics.ipynb:1\n"
     ]
    }
   ],
   "source": [
    "@info \"Hi there !\""
   ]
  },
  {
   "cell_type": "markdown",
   "id": "7d379080",
   "metadata": {},
   "source": [
    "# Data manipulation \n",
    "\n",
    "see Pluto slides\n",
    "\n",
    "## Broadcasting\n",
    "\n",
    "Defined functions can be *broadcasted* over array elements using a dot or with `broadcast` or `map`."
   ]
  },
  {
   "cell_type": "markdown",
   "id": "1bf9fcea",
   "metadata": {},
   "source": [
    "## Getting help in Julia\n",
    "\n",
    "For a quick help on a specific obejct while working, you can try adding a `?` in front of its name. (in a Jupyter notebook cell, use `@doc` instead)"
   ]
  },
  {
   "cell_type": "code",
   "execution_count": 60,
   "id": "f4314caa",
   "metadata": {},
   "outputs": [
    {
     "data": {
      "text/latex": [
       "\\begin{verbatim}\n",
       "println([io::IO], xs...)\n",
       "\\end{verbatim}\n",
       "Print (using \\href{@ref}{\\texttt{print}}) \\texttt{xs} to \\texttt{io} followed by a newline. If \\texttt{io} is not supplied, prints to the default output stream \\href{@ref}{\\texttt{stdout}}.\n",
       "\n",
       "See also \\href{@ref}{\\texttt{printstyled}} to add colors etc.\n",
       "\n",
       "\\section{Examples}\n",
       "\\begin{verbatim}\n",
       "julia> println(\"Hello, world\")\n",
       "Hello, world\n",
       "\n",
       "julia> io = IOBuffer();\n",
       "\n",
       "julia> println(io, \"Hello\", ',', \" world.\")\n",
       "\n",
       "julia> String(take!(io))\n",
       "\"Hello, world.\\n\"\n",
       "\\end{verbatim}\n"
      ],
      "text/markdown": [
       "```\n",
       "println([io::IO], xs...)\n",
       "```\n",
       "\n",
       "Print (using [`print`](@ref)) `xs` to `io` followed by a newline. If `io` is not supplied, prints to the default output stream [`stdout`](@ref).\n",
       "\n",
       "See also [`printstyled`](@ref) to add colors etc.\n",
       "\n",
       "# Examples\n",
       "\n",
       "```jldoctest\n",
       "julia> println(\"Hello, world\")\n",
       "Hello, world\n",
       "\n",
       "julia> io = IOBuffer();\n",
       "\n",
       "julia> println(io, \"Hello\", ',', \" world.\")\n",
       "\n",
       "julia> String(take!(io))\n",
       "\"Hello, world.\\n\"\n",
       "```\n"
      ],
      "text/plain": [
       "\u001b[36m  println([io::IO], xs...)\u001b[39m\n",
       "\n",
       "  Print (using \u001b[36mprint\u001b[39m) \u001b[36mxs\u001b[39m to \u001b[36mio\u001b[39m followed by a newline. If \u001b[36mio\u001b[39m is not supplied,\n",
       "  prints to the default output stream \u001b[36mstdout\u001b[39m.\n",
       "\n",
       "  See also \u001b[36mprintstyled\u001b[39m to add colors etc.\n",
       "\n",
       "\u001b[1m  Examples\u001b[22m\n",
       "\u001b[1m  ≡≡≡≡≡≡≡≡≡≡\u001b[22m\n",
       "\n",
       "\u001b[36m  julia> println(\"Hello, world\")\u001b[39m\n",
       "\u001b[36m  Hello, world\u001b[39m\n",
       "\u001b[36m  \u001b[39m\n",
       "\u001b[36m  julia> io = IOBuffer();\u001b[39m\n",
       "\u001b[36m  \u001b[39m\n",
       "\u001b[36m  julia> println(io, \"Hello\", ',', \" world.\")\u001b[39m\n",
       "\u001b[36m  \u001b[39m\n",
       "\u001b[36m  julia> String(take!(io))\u001b[39m\n",
       "\u001b[36m  \"Hello, world.\\n\"\u001b[39m"
      ]
     },
     "metadata": {},
     "output_type": "display_data"
    }
   ],
   "source": [
    "@doc println"
   ]
  },
  {
   "cell_type": "markdown",
   "id": "80c00653",
   "metadata": {},
   "source": [
    "Alternatively, Julia package developpers are encouraged to maintain exhaustive documentation about their work. It's usually very easily findable online, just search for the function or module name !"
   ]
  }
 ],
 "metadata": {
  "kernelspec": {
   "display_name": "Julia 1.10.0",
   "language": "julia",
   "name": "julia-1.10"
  },
  "language_info": {
   "file_extension": ".jl",
   "mimetype": "application/julia",
   "name": "julia",
   "version": "1.10.0"
  }
 },
 "nbformat": 4,
 "nbformat_minor": 5
}
